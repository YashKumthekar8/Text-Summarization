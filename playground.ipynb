{
 "cells": [
  {
   "cell_type": "code",
   "execution_count": 2,
   "metadata": {},
   "outputs": [
    {
     "name": "stdout",
     "output_type": "stream",
     "text": [
      "The autoreload extension is already loaded. To reload it, use:\n",
      "  %reload_ext autoreload\n"
     ]
    }
   ],
   "source": [
    "%load_ext autoreload\n",
    "%autoreload 2"
   ]
  },
  {
   "cell_type": "markdown",
   "metadata": {},
   "source": [
    "Import required libraries"
   ]
  },
  {
   "cell_type": "code",
   "execution_count": 94,
   "metadata": {},
   "outputs": [],
   "source": [
    "import numpy as np\n",
    "from src.bertsum import BertSummarizerConfig, BertSummarizer\n",
    "from transformers import AutoTokenizer, AutoModel\n",
    "from datasets import load_dataset\n",
    "from utils import tokenize_text_to_sentences, prepare_sample\n",
    "\n",
    "checkpoint = 'eReverter/bert-finetuned-cnn_dailymail'\n",
    "dataset = 'eReverter/cnn_dailymail_extractive'"
   ]
  },
  {
   "cell_type": "markdown",
   "metadata": {},
   "source": [
    "Load dataset, model, and tokenizer"
   ]
  },
  {
   "cell_type": "code",
   "execution_count": 80,
   "metadata": {},
   "outputs": [
    {
     "name": "stderr",
     "output_type": "stream",
     "text": [
      "Using custom data configuration eReverter--cnn_dailymail_extractive-724c7cce7ac202ac\n",
      "Found cached dataset parquet (/home/usuaris/veu/enric.reverter/.cache/huggingface/datasets/eReverter___parquet/eReverter--cnn_dailymail_extractive-724c7cce7ac202ac/0.0.0/2a3b91fbd88a2c90d1dbbb32b460cf621d31bd5b05b934492fdef7d8d6f236ec)\n"
     ]
    },
    {
     "data": {
      "application/vnd.jupyter.widget-view+json": {
       "model_id": "5b6b13e2560b432788deaba9b2035a31",
       "version_major": 2,
       "version_minor": 0
      },
      "text/plain": [
       "  0%|          | 0/3 [00:00<?, ?it/s]"
      ]
     },
     "metadata": {},
     "output_type": "display_data"
    },
    {
     "data": {
      "text/plain": [
       "DatasetDict({\n",
       "    test: Dataset({\n",
       "        features: ['src', 'tgt', 'labels'],\n",
       "        num_rows: 11490\n",
       "    })\n",
       "    validation: Dataset({\n",
       "        features: ['src', 'tgt', 'labels'],\n",
       "        num_rows: 13368\n",
       "    })\n",
       "    train: Dataset({\n",
       "        features: ['src', 'tgt', 'labels'],\n",
       "        num_rows: 287113\n",
       "    })\n",
       "})"
      ]
     },
     "execution_count": 80,
     "metadata": {},
     "output_type": "execute_result"
    }
   ],
   "source": [
    "data_dict = load_dataset('eReverter/cnn_dailymail_extractive')\n",
    "data_dict"
   ]
  },
  {
   "cell_type": "code",
   "execution_count": 81,
   "metadata": {},
   "outputs": [
    {
     "data": {
      "application/vnd.jupyter.widget-view+json": {
       "model_id": "1fbd8bcf317746ca9f333352f1a264ab",
       "version_major": 2,
       "version_minor": 0
      },
      "text/plain": [
       "Downloading:   0%|          | 0.00/348 [00:00<?, ?B/s]"
      ]
     },
     "metadata": {},
     "output_type": "display_data"
    },
    {
     "data": {
      "application/vnd.jupyter.widget-view+json": {
       "model_id": "360a12d8666b4b85b117724cbd5ce6a0",
       "version_major": 2,
       "version_minor": 0
      },
      "text/plain": [
       "Downloading:   0%|          | 0.00/232k [00:00<?, ?B/s]"
      ]
     },
     "metadata": {},
     "output_type": "display_data"
    },
    {
     "data": {
      "application/vnd.jupyter.widget-view+json": {
       "model_id": "884e24c29fee4399b4b6ed5549e675ff",
       "version_major": 2,
       "version_minor": 0
      },
      "text/plain": [
       "Downloading:   0%|          | 0.00/711k [00:00<?, ?B/s]"
      ]
     },
     "metadata": {},
     "output_type": "display_data"
    },
    {
     "data": {
      "application/vnd.jupyter.widget-view+json": {
       "model_id": "c0365d9ccad6446e8d465050fc3dc9d8",
       "version_major": 2,
       "version_minor": 0
      },
      "text/plain": [
       "Downloading:   0%|          | 0.00/125 [00:00<?, ?B/s]"
      ]
     },
     "metadata": {},
     "output_type": "display_data"
    },
    {
     "name": "stderr",
     "output_type": "stream",
     "text": [
      "Some weights of the model checkpoint at bert-base-uncased were not used when initializing BertModel: ['cls.predictions.transform.LayerNorm.bias', 'cls.seq_relationship.bias', 'cls.predictions.transform.LayerNorm.weight', 'cls.predictions.decoder.weight', 'cls.seq_relationship.weight', 'cls.predictions.bias', 'cls.predictions.transform.dense.bias', 'cls.predictions.transform.dense.weight']\n",
      "- This IS expected if you are initializing BertModel from the checkpoint of a model trained on another task or with another architecture (e.g. initializing a BertForSequenceClassification model from a BertForPreTraining model).\n",
      "- This IS NOT expected if you are initializing BertModel from the checkpoint of a model that you expect to be exactly identical (initializing a BertForSequenceClassification model from a BertForSequenceClassification model).\n"
     ]
    }
   ],
   "source": [
    "tokenizer = AutoTokenizer.from_pretrained(checkpoint)\n",
    "model = BertSummarizer.from_pretrained(checkpoint)"
   ]
  },
  {
   "cell_type": "markdown",
   "metadata": {},
   "source": [
    "Look at one sample"
   ]
  },
  {
   "cell_type": "code",
   "execution_count": 82,
   "metadata": {},
   "outputs": [
    {
     "data": {
      "text/plain": [
       "[\"(CNN)Since Iran's Islamic Revolution in 1979, women have been barred from attending most sports events involving men.\",\n",
       " 'But the situation appears set to improve in the coming months after a top Iranian sports official said that the ban will be lifted for some events.',\n",
       " 'A plan to allow \"women and families\" to enter sports stadiums will come into effect in the next year, Deputy Sports Minister Abdolhamid Ahmadi said Saturday, according to state-run media.',\n",
       " \"But it isn't clear exactly which games women will be able to attend.\",\n",
       " 'According to the state-run Press TV, Ahmadi said the restrictions would be lifted for indoor sports events.',\n",
       " 'The rules won\\'t change for all matches because some sports are mainly related to men and \"families are not interested in attending\" them, Press TV cited him as saying.',\n",
       " \"Iranian authorities imposed the ban on women attending men's sports events after the revolution, deeming that mixed crowds watching games together was un-Islamic.\",\n",
       " \"During the ensuing decades, the crowds at soccer games, Iran's most popular sport, have been all male.\",\n",
       " 'Iranian women were briefly permitted to attend volleyball matches under the moderate President Mohammad Khatami, but the ban was reinstated in 2005 after the more hard-line Mahmoud Ahmadinejad came to power.',\n",
       " 'The Iranian government has come under pressure from international sports officials over the restrictions.',\n",
       " 'FIFA President Sepp Blatter called on Iran last month to end its \"intolerable\" ban on women attending soccer matches, saying the situation \"cannot continue.\"',\n",
       " \"Iran had been in the running to host the 2019 edition of soccer's Asian Cup, but the tournament was awarded to the United Arab Emirates.\",\n",
       " \"The ban on women attending matches was widely seen as a major impediment to Iran's chances of securing the event.\",\n",
       " 'The ban came under the spotlight at the Asian Cup in Australia earlier this year, when thousands of female Iranian fans watched their soccer team without restriction.',\n",
       " 'During the match against Iraq, activists called for the ban to end and unfurled a banner showing the face of Ghoncheh Ghavami, a British-Iranian woman detained in Iran last year while trying to watch a volleyball match.',\n",
       " 'Iranian officials have denied that Ghavami was arrested for attending the volleyball game, saying she was taken into custody for \"anti-Iran activities.\"',\n",
       " 'The news agency Reuters reported that she was recently pardoned by the Court of Appeal.',\n",
       " \"CNN's Annie Ramos contributed to this report.\"]"
      ]
     },
     "execution_count": 82,
     "metadata": {},
     "output_type": "execute_result"
    }
   ],
   "source": [
    "sample = data_dict['test'][24]['src']\n",
    "sample"
   ]
  },
  {
   "cell_type": "markdown",
   "metadata": {},
   "source": [
    "Prepare the sample"
   ]
  },
  {
   "cell_type": "code",
   "execution_count": 83,
   "metadata": {},
   "outputs": [],
   "source": [
    "model_inputs = prepare_sample(sample, tokenizer)\n",
    "updated_sample = model_inputs.pop('sample')"
   ]
  },
  {
   "cell_type": "markdown",
   "metadata": {},
   "source": [
    "Inference"
   ]
  },
  {
   "cell_type": "code",
   "execution_count": 84,
   "metadata": {},
   "outputs": [
    {
     "data": {
      "text/plain": [
       "{'logits': tensor([[9.9696e-01, 8.5784e-01, 9.9671e-01, 2.9444e-02, 9.4092e-01, 6.1778e-01,\n",
       "          9.5534e-01, 3.4963e-03, 2.1245e-01, 4.4468e-02, 2.4277e-04, 1.8779e-04,\n",
       "          6.4062e-04, 8.5547e-04, 1.6864e-04, 1.1845e-02, 1.8611e-04]],\n",
       "        grad_fn=<SqueezeBackward1>),\n",
       " 'mask_cls': tensor([[1, 1, 1, 1, 1, 1, 1, 1, 1, 1, 1, 1, 1, 1, 1, 1, 1]])}"
      ]
     },
     "execution_count": 84,
     "metadata": {},
     "output_type": "execute_result"
    }
   ],
   "source": [
    "outputs = model(**model_inputs)\n",
    "outputs"
   ]
  },
  {
   "cell_type": "code",
   "execution_count": 85,
   "metadata": {},
   "outputs": [
    {
     "data": {
      "text/plain": [
       "True"
      ]
     },
     "execution_count": 85,
     "metadata": {},
     "output_type": "execute_result"
    }
   ],
   "source": [
    "len(outputs['logits'][0]) == len(updated_sample)"
   ]
  },
  {
   "cell_type": "markdown",
   "metadata": {},
   "source": [
    "Get the summary from the updated sample (some sentences are filtered out during the preprocessing)"
   ]
  },
  {
   "cell_type": "code",
   "execution_count": 86,
   "metadata": {},
   "outputs": [
    {
     "data": {
      "text/plain": [
       "'(CNN)Since Iran\\'s Islamic Revolution in 1979, women have been barred from attending most sports events involving men. A plan to allow \"women and families\" to enter sports stadiums will come into effect in the next year, Deputy Sports Minister Abdolhamid Ahmadi said Saturday, according to state-run media. Iranian authorities imposed the ban on women attending men\\'s sports events after the revolution, deeming that mixed crowds watching games together was un-Islamic.'"
      ]
     },
     "execution_count": 86,
     "metadata": {},
     "output_type": "execute_result"
    }
   ],
   "source": [
    "# Select top 3 sentences for the summary\n",
    "summary = ' '.join([updated_sample[i] for i in outputs['logits'].topk(3).indices.detach().cpu().numpy()[0]])\n",
    "summary"
   ]
  },
  {
   "cell_type": "markdown",
   "metadata": {},
   "source": [
    "Example from Wikipedia text "
   ]
  },
  {
   "cell_type": "code",
   "execution_count": 93,
   "metadata": {},
   "outputs": [
    {
     "data": {
      "text/plain": [
       "'\\nWine is an alcoholic drink typically made from fermented grapes. Yeast consumes the sugar in the grapes and converts it to ethanol and carbon dioxide, releasing heat in the process. Different varieties of grapes and strains of yeasts are major factors in different styles of wine.'"
      ]
     },
     "execution_count": 93,
     "metadata": {},
     "output_type": "execute_result"
    }
   ],
   "source": [
    "wikipedia_text = \"\"\"\n",
    "Wine is an alcoholic drink typically made from fermented grapes. Yeast consumes the sugar in the grapes and converts it to ethanol and carbon dioxide, releasing heat in the process. Different varieties of grapes and strains of yeasts are major factors in different styles of wine. These differences result from the complex interactions between the biochemical development of the grape, the reactions involved in fermentation, the grape's growing environment (terroir), and the wine production process. Many countries enact legal appellations intended to define styles and qualities of wine. These typically restrict the geographical origin and permitted varieties of grapes, as well as other aspects of wine production. Wines can be made by fermentation of other fruit crops such as plum, cherry, pomegranate, blueberry, currant and elderberry.\n",
    "\"\"\"\n",
    "\n",
    "sample = tokenize_text_to_sentences(wikipedia_text)\n",
    "model_inputs = prepare_sample(sample, tokenizer)\n",
    "updated_sample = model_inputs.pop('sample')\n",
    "outputs = model(**model_inputs)\n",
    "summary = ' '.join([updated_sample[i] for i in np.sort(outputs['logits'].topk(3).indices.detach().cpu().numpy()[0])])\n",
    "summary"
   ]
  }
 ],
 "metadata": {
  "kernelspec": {
   "display_name": "Python 3 (ipykernel)",
   "language": "python",
   "name": "python3"
  },
  "language_info": {
   "codemirror_mode": {
    "name": "ipython",
    "version": 3
   },
   "file_extension": ".py",
   "mimetype": "text/x-python",
   "name": "python",
   "nbconvert_exporter": "python",
   "pygments_lexer": "ipython3",
   "version": "3.10.9"
  },
  "orig_nbformat": 4
 },
 "nbformat": 4,
 "nbformat_minor": 2
}
